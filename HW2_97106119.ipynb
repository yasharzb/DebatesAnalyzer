{
 "cells": [
  {
   "cell_type": "markdown",
   "id": "7442de57-ff52-48a4-b3ad-6986a0cccb2a",
   "metadata": {},
   "source": [
    "Analysis on US Presidents' debates\n",
    "==================================\n",
    "\n",
    "### Yashar Zoroofchi Benisi - 97106119"
   ]
  },
  {
   "cell_type": "markdown",
   "id": "007ad135-12ce-4e2c-825b-2f8dd18be449",
   "metadata": {
    "tags": []
   },
   "source": [
    "## Importing libraries"
   ]
  },
  {
   "cell_type": "code",
   "execution_count": 1,
   "id": "0cc6ba1f-5a42-4856-b282-e4d06a8c97c5",
   "metadata": {},
   "outputs": [],
   "source": [
    "import random\n",
    "import nltk, re\n",
    "import tqdm"
   ]
  },
  {
   "cell_type": "code",
   "execution_count": 5,
   "id": "b965b965-696f-4838-b824-a45ab3316f06",
   "metadata": {},
   "outputs": [
    {
     "name": "stdout",
     "output_type": "stream",
     "text": [
      "showing info https://raw.githubusercontent.com/nltk/nltk_data/gh-pages/index.xml\n"
     ]
    },
    {
     "data": {
      "text/plain": [
       "True"
      ]
     },
     "execution_count": 5,
     "metadata": {},
     "output_type": "execute_result"
    }
   ],
   "source": [
    "nltk.download()"
   ]
  },
  {
   "cell_type": "code",
   "execution_count": 2,
   "id": "1716a01e-4ad5-489b-bd44-bc2323840927",
   "metadata": {},
   "outputs": [],
   "source": [
    "from nltk.corpus import wordnet as wn\n",
    "from nltk import FreqDist"
   ]
  },
  {
   "cell_type": "code",
   "execution_count": 6,
   "id": "bf0fcd3c-6389-4232-8b46-8f756b4d6a45",
   "metadata": {},
   "outputs": [],
   "source": [
    "synsets = wn.synsets('car', 'n')"
   ]
  },
  {
   "cell_type": "code",
   "execution_count": null,
   "id": "b71a8175-3eb5-48a2-898a-00b72d369027",
   "metadata": {},
   "outputs": [],
   "source": []
  },
  {
   "cell_type": "code",
   "execution_count": null,
   "id": "2ec7cd48-07bc-410c-b9c1-4636b127f854",
   "metadata": {},
   "outputs": [],
   "source": [
    "base_dir = 'Debates'\n"
   ]
  }
 ],
 "metadata": {
  "kernelspec": {
   "display_name": "Python 3 (ipykernel)",
   "language": "python",
   "name": "python3"
  },
  "language_info": {
   "codemirror_mode": {
    "name": "ipython",
    "version": 3
   },
   "file_extension": ".py",
   "mimetype": "text/x-python",
   "name": "python",
   "nbconvert_exporter": "python",
   "pygments_lexer": "ipython3",
   "version": "3.10.4"
  }
 },
 "nbformat": 4,
 "nbformat_minor": 5
}
